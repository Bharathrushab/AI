{
 "cells": [
  {
   "cell_type": "code",
   "execution_count": 15,
   "metadata": {},
   "outputs": [],
   "source": [
    "import numpy as np # linear algebra\n",
    "import pandas as pd # data processing, CSV file I/O (e.g. pd.read_csv)\n",
    "\n",
    "# load the data\n",
    "df = pd.read_csv('/Users/bharathrushabmanthripragada/Downloads/1.csv')"
   ]
  },
  {
   "cell_type": "code",
   "execution_count": 16,
   "metadata": {},
   "outputs": [
    {
     "name": "stdout",
     "output_type": "stream",
     "text": [
      "<class 'pandas.core.frame.DataFrame'>\n",
      "RangeIndex: 8124 entries, 0 to 8123\n",
      "Columns: 117 entries, cap-shape_b to habitat_w\n",
      "dtypes: uint8(117)\n",
      "memory usage: 928.3 KB\n",
      "<class 'pandas.core.frame.DataFrame'>\n",
      "RangeIndex: 8124 entries, 0 to 8123\n",
      "Data columns (total 2 columns):\n",
      "e    8124 non-null uint8\n",
      "p    8124 non-null uint8\n",
      "dtypes: uint8(2)\n",
      "memory usage: 15.9 KB\n"
     ]
    }
   ],
   "source": [
    "from sklearn.model_selection import train_test_split\n",
    "\n",
    "\n",
    "# split the data int x(training data) and y (results)\n",
    "y = df['class']\n",
    "x = df.drop(['class'], axis=1)\n",
    "x = pd.get_dummies(x)\n",
    "y = pd.get_dummies(y)\n",
    "x.info()\n",
    "y.info()\n",
    "# x.info()\n",
    "# y.info()\n",
    "# x.dtypes"
   ]
  },
  {
   "cell_type": "code",
   "execution_count": 17,
   "metadata": {},
   "outputs": [],
   "source": [
    "import matplotlib as mpl\n",
    "import matplotlib.pyplot as plt\n",
    "import seaborn as sns\n"
   ]
  },
  {
   "cell_type": "code",
   "execution_count": 18,
   "metadata": {},
   "outputs": [
    {
     "data": {
      "text/plain": [
       "DecisionTreeClassifier(class_weight='balanced', criterion='gini', max_depth=9,\n",
       "            max_features=None, max_leaf_nodes=None,\n",
       "            min_impurity_decrease=0.0, min_impurity_split=None,\n",
       "            min_samples_leaf=1, min_samples_split=2,\n",
       "            min_weight_fraction_leaf=0.0, presort=False, random_state=None,\n",
       "            splitter='best')"
      ]
     },
     "execution_count": 18,
     "metadata": {},
     "output_type": "execute_result"
    }
   ],
   "source": [
    "from sklearn.model_selection import cross_val_score\n",
    "from sklearn import tree\n",
    "from sklearn.model_selection import GridSearchCV\n",
    "\n",
    "X_train, X_test, y_train, y_test = train_test_split(x, y, test_size=0.2, random_state=2)\n",
    "\n",
    "parameters = {'criterion':('gini', 'entropy'), \n",
    "              'min_samples_split':[2,3,4,5], \n",
    "              'max_depth':[9,10,11,12],\n",
    "              'class_weight':('balanced', None),\n",
    "              'presort':(False,True),\n",
    "             }\n",
    "\n",
    "\n",
    "tr = tree.DecisionTreeClassifier()\n",
    "gsearch = GridSearchCV(tr, parameters)\n",
    "gsearch.fit(X_train, y_train)\n",
    "model = gsearch.best_estimator_\n",
    "model\n",
    "# gsearch.cv_results_\n",
    "# scores = cross_val_score(model, X_train, y_train, cv=5, scoring='f1_macro')\n",
    "# scores\n",
    "# model.fit(X_train, y_train)"
   ]
  },
  {
   "cell_type": "code",
   "execution_count": 24,
   "metadata": {},
   "outputs": [
    {
     "name": "stdout",
     "output_type": "stream",
     "text": [
      "1.0\n"
     ]
    }
   ],
   "source": [
    "# The scores are really great, so fit the model and predict\n",
    "model.fit(X_train, y_train)\n",
    "score = model.score(X_test, y_test)\n",
    "print(score)"
   ]
  },
  {
   "cell_type": "code",
   "execution_count": null,
   "metadata": {},
   "outputs": [],
   "source": [
    "import graphviz\n",
    "dot_data = tree.export_graphviz(model, out_file=None,\n",
    "                                feature_names=X_test.columns,\n",
    "                               class_names=y_test.columns,\n",
    "                               filled=True, rounded=True,\n",
    "                               special_characters=True)\n",
    "graph = graphviz.Source(dot_data)\n",
    "graph"
   ]
  }
 ],
 "metadata": {
  "kernelspec": {
   "display_name": "Python 2",
   "language": "python",
   "name": "python2"
  },
  "language_info": {
   "codemirror_mode": {
    "name": "ipython",
    "version": 2
   },
   "file_extension": ".py",
   "mimetype": "text/x-python",
   "name": "python",
   "nbconvert_exporter": "python",
   "pygments_lexer": "ipython2",
   "version": "2.7.15"
  }
 },
 "nbformat": 4,
 "nbformat_minor": 2
}
